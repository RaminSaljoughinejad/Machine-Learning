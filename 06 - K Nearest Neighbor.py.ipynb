{
 "cells": [
  {
   "cell_type": "code",
   "execution_count": 1,
   "metadata": {},
   "outputs": [],
   "source": [
    "import numpy as np\n",
    "import pandas as pd\n",
    "import sklearn\n",
    "from sklearn.utils import shuffle\n",
    "from sklearn.neighbors import KNeighborsClassifier\n",
    "from sklearn import linear_model, preprocessing"
   ]
  },
  {
   "cell_type": "code",
   "execution_count": 2,
   "metadata": {},
   "outputs": [
    {
     "name": "stdout",
     "output_type": "stream",
     "text": [
      "0.6705202312138728\n"
     ]
    }
   ],
   "source": [
    "data = pd.read_csv(\"car.data\")\n",
    "#print(data.head())\n",
    "\n",
    "myPreprocessor = preprocessing.LabelEncoder()\n",
    "buying = myPreprocessor.fit_transform(list(data[\"buying\"]))\n",
    "maint = myPreprocessor.fit_transform(list(data[\"maint\"]))\n",
    "door = myPreprocessor.fit_transform(list(data[\"door\"]))\n",
    "persons = myPreprocessor.fit_transform(list(data[\"persons\"]))\n",
    "lug_boot = myPreprocessor.fit_transform(list(data[\"lug_boot\"]))\n",
    "safety = myPreprocessor.fit_transform(list(data[\"safety\"]))\n",
    "clas = myPreprocessor.fit_transform(list(data[\"class\"]))\n",
    "\n",
    "predit = \"class\"\n",
    "\n",
    "x = list(zip(buying, maint, door, lug_boot, safety))\n",
    "y = list(clas)\n",
    "\n",
    "x_train, x_test, y_train, y_test = sklearn.model_selection.train_test_split(x, y, test_size=0.1)\n",
    "\n",
    "model = KNeighborsClassifier(n_neighbors=9)\n",
    "model.fit(x_train,y_train)\n",
    "\n",
    "accuracy = model.score(x_test, y_test)\n",
    "print(accuracy)"
   ]
  }
 ],
 "metadata": {
  "kernelspec": {
   "display_name": "Python 3",
   "language": "python",
   "name": "python3"
  },
  "language_info": {
   "codemirror_mode": {
    "name": "ipython",
    "version": 3
   },
   "file_extension": ".py",
   "mimetype": "text/x-python",
   "name": "python",
   "nbconvert_exporter": "python",
   "pygments_lexer": "ipython3",
   "version": "3.8.3"
  }
 },
 "nbformat": 4,
 "nbformat_minor": 4
}
